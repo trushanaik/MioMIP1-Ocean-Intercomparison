{
 "cells": [
  {
   "cell_type": "code",
   "execution_count": 1,
   "id": "9b9e18c4-2a6c-4c32-8d62-06a93dea7bb2",
   "metadata": {},
   "outputs": [],
   "source": [
    "import xarray as xr\n",
    "import numpy as np\n",
    "import matplotlib\n",
    "import matplotlib.pyplot as plt\n",
    "import matplotlib.colors as colors\n",
    "import xesmf as xe\n",
    "import cartopy.crs as ccrs\n",
    "from mpl_toolkits.axes_grid1 import AxesGrid\n",
    "import warnings\n",
    "import cmocean\n",
    "from matplotlib.colors import TwoSlopeNorm\n",
    "from matplotlib import patheffects\n",
    "import cartopy\n",
    "import matplotlib.pyplot as plt\n",
    "import cartopy.feature as cfeat\n",
    "from cartopy.mpl.geoaxes import GeoAxes\n",
    "import matplotlib.ticker as mticker\n",
    "from cartopy.mpl.gridliner import LONGITUDE_FORMATTER, LATITUDE_FORMATTER\n",
    "import xesmf as xe\n",
    "import matplotlib.patches as mpatches\n",
    "import matplotlib.dates as mdates\n",
    "import warnings\n",
    "import matplotlib.projections\n",
    "import wrf\n",
    "import scipy.stats as stats\n",
    "from geopy import distance\n",
    "import gsw_xarray as gsw\n",
    "import time\n",
    "import matplotlib.path as mpath\n",
    "#ignore by message\n",
    "warnings.filterwarnings(\"ignore\")"
   ]
  },
  {
   "cell_type": "code",
   "execution_count": 2,
   "id": "63595eee-7653-4f31-9387-0a918961ca92",
   "metadata": {},
   "outputs": [],
   "source": [
    "mld=xr.open_dataset('MLD_Naik_etal.nc')\n",
    "moc_ccsm3f=xr.open_dataset('MOC_CCSM3_F.nc')\n",
    "moc_ccsm3h=xr.open_dataset('MOC_CCSM3_H.nc')"
   ]
  },
  {
   "cell_type": "code",
   "execution_count": 3,
   "id": "e1d798d0-2a5f-4604-907c-1c2f069b8757",
   "metadata": {},
   "outputs": [
    {
     "data": {
      "text/plain": [
       "<matplotlib.colorbar.Colorbar at 0x18d92b250>"
      ]
     },
     "execution_count": 3,
     "metadata": {},
     "output_type": "execute_result"
    },
    {
     "data": {
      "image/png": "[encoded data removed]",
      "text/plain": [
       "<Figure size 432x288 with 2 Axes>"
      ]
     },
     "metadata": {
      "needs_background": "light"
     },
     "output_type": "display_data"
    }
   ],
   "source": [
    "plt.pcolormesh(moc_ccsm3h.AMOC_Mio)\n",
    "plt.colorbar()"
   ]
  },
  {
   "cell_type": "code",
   "execution_count": null,
   "id": "e8def417-4c13-42aa-8742-b280bb20cd23",
   "metadata": {},
   "outputs": [],
   "source": []
  }
 ],
 "metadata": {
  "kernelspec": {
   "display_name": "Python 3 (ipykernel)",
   "language": "python",
   "name": "python3"
  },
  "language_info": {
   "codemirror_mode": {
    "name": "ipython",
    "version": 3
   },
   "file_extension": ".py",
   "mimetype": "text/x-python",
   "name": "python",
   "nbconvert_exporter": "python",
   "pygments_lexer": "ipython3",
   "version": "3.9.10"
  }
 },
 "nbformat": 4,
 "nbformat_minor": 5
}
